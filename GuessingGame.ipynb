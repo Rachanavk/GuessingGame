{
 "cells": [
  {
   "cell_type": "code",
   "execution_count": null,
   "metadata": {},
   "outputs": [
    {
     "name": "stdin",
     "output_type": "stream",
     "text": [
      "Enter number between 1 and 100 4\n"
     ]
    },
    {
     "name": "stdout",
     "output_type": "stream",
     "text": [
      "higher\n"
     ]
    },
    {
     "name": "stdin",
     "output_type": "stream",
     "text": [
      "Enter number between 1 and 100 2\n"
     ]
    },
    {
     "name": "stdout",
     "output_type": "stream",
     "text": [
      "higher\n"
     ]
    },
    {
     "name": "stdin",
     "output_type": "stream",
     "text": [
      "Enter number between 1 and 100 90\n"
     ]
    },
    {
     "name": "stdout",
     "output_type": "stream",
     "text": [
      "lower\n"
     ]
    },
    {
     "name": "stdin",
     "output_type": "stream",
     "text": [
      "Enter number between 1 and 100 60\n"
     ]
    },
    {
     "name": "stdout",
     "output_type": "stream",
     "text": [
      "lower\n"
     ]
    }
   ],
   "source": [
    "import random\n",
    "def computerGuess(lowval, highval, randnum, count=0):\n",
    "  if highval >= lowval:\n",
    "     guess = lowval + (highval - lowval) //2\n",
    "     if guess == randnum:\n",
    "        return count\n",
    "     elif guess > randnum:\n",
    "        count = count + 1\n",
    "        return computerGuess(lowval, guess-1, randnum, count)\n",
    "     else:\n",
    "        count = count + 1\n",
    "        return computerGuess(guess + 1,highval, randnum, count)\n",
    "  else:\n",
    "     return -1\n",
    "randnum = random.randint(1,101)\n",
    "count = 0\n",
    "guess = -99\n",
    "\n",
    "while(guess != randnum):\n",
    "  guess = (int) (input(\"Enter number between 1 and 100\"))\n",
    "  if(guess < randnum):\n",
    "     print(\"higher\")\n",
    "  elif(guess > randnum):\n",
    "     print(\"lower\")\n",
    "  else:\n",
    "     print(\"You guessed it!\")\n",
    "     break\n",
    "  count = count + 1\n",
    "print(\"You took \" +str(count) + \"steps to guess\")\n",
    "print(\"computer took \" +str(computerGuess(0,100,randnum)) + \"steps!\")"
   ]
  },
  {
   "cell_type": "code",
   "execution_count": null,
   "metadata": {},
   "outputs": [],
   "source": []
  }
 ],
 "metadata": {
  "kernelspec": {
   "display_name": "Python 3",
   "language": "python",
   "name": "python3"
  },
  "language_info": {
   "codemirror_mode": {
    "name": "ipython",
    "version": 3
   },
   "file_extension": ".py",
   "mimetype": "text/x-python",
   "name": "python",
   "nbconvert_exporter": "python",
   "pygments_lexer": "ipython3",
   "version": "3.7.3"
  }
 },
 "nbformat": 4,
 "nbformat_minor": 4
}
